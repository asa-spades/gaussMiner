{
 "cells": [
  {
   "cell_type": "markdown",
   "metadata": {},
   "source": [
    "# This notebook is a work area to develop code to scrape log files to build a PFAS database"
   ]
  },
  {
   "cell_type": "markdown",
   "metadata": {},
   "source": [
    "## First step is to make a list of log files in the directory that will be iterated over"
   ]
  },
  {
   "cell_type": "code",
   "execution_count": 4,
   "metadata": {},
   "outputs": [],
   "source": [
    "from pathlib import Path  \n",
    "import os\n",
    "import glob\n",
    "import re\n",
    "\n"
   ]
  },
  {
   "cell_type": "code",
   "execution_count": 53,
   "metadata": {},
   "outputs": [],
   "source": [
    "class logFileObj(object):\n",
    "    def __init__(self, fileStringPath, filePath = None, name = None, xyz = None, energyFree = None, energySCF = None, \n",
    "                 molFormula = None, program = None):\n",
    "        #The following are the class attributes \n",
    "        # I had a self.datablock but the python literature idicates I might have problems with that file being kept open in that case\n",
    "        self.fileStringPath = fileStringPath\n",
    "        self.filePath = Path(fileStringPath)\n",
    "        self.name = self.filePath.name\n",
    "        # Im not sure if I really want these to be attributes or things I get from methods\n",
    "        self.energyFree = energyFree\n",
    "        self.energySCF = energySCF\n",
    "        self.molFormula = molFormula\n",
    "        self.program = program\n",
    "        \n",
    "        #The following are the class methods\n",
    "    def getText(self): # this method is just to test my object creation\n",
    "        return('Test object creation by returning this text')\n",
    "    \n",
    "    def getFinalSCF(self):\n",
    "        regSCF = re.compile(r'.*SCF Done.*')\n",
    "        regSCFenerg = re.compile(r'-\\d*\\.\\d*')\n",
    "        finalSCFenerg = ''\n",
    "        finalSCFenergString = ''\n",
    "        with open(self.filePath) as dataBlock:\n",
    "            readDataBlock = dataBlock.read()\n",
    "            SCFmatches = regSCF.findall(readDataBlock)\n",
    "            try:\n",
    "                finalSCFenergString = SCFmatches[-1]\n",
    "            except IndexError:\n",
    "                pass\n",
    "            finalSCFenerg = regSCFenerg.search(finalSCFenergString)\n",
    "            try:\n",
    "                return(finalSCFenerg.group())\n",
    "            except AttributeError:\n",
    "                pass\n",
    "            \n",
    "#   def isNormalterm(self):\n",
    "    \n",
    "#    def whatIsJobType(self):\n",
    "        \n",
    "#    def \n",
    "    \n",
    "    \n",
    "        "
   ]
  },
  {
   "cell_type": "code",
   "execution_count": 41,
   "metadata": {},
   "outputs": [],
   "source": [
    "# This snippet creates a dictionary of logfile objects\n",
    "# to do: extend this to input dir\n",
    "def listLogsMakelogFileObj(): \n",
    "    \n",
    "    '''This function is designed to get a list of log files and turn them into a series of logfile objects\n",
    "    that have a group of methods making their parsing and metadata collection easier'''\n",
    "    \n",
    "    workingDir = Path.cwd() #defines the working directory as current working directory path object\n",
    "    logPathList = list(workingDir.glob('*.log')) # makes a list of path object with stated pattern\n",
    "    \n",
    "    logObjectDictionary = {}\n",
    "    for logPath in logPathList:\n",
    "        logPathString = str(logPath)\n",
    "        logObject = logFileObj(logPathString)\n",
    "        logObjectDictionary[logPathString] = logObject\n",
    "    \n",
    "    return(logObjectDictionary)\n",
    "    \n",
    "\n",
    "\n",
    "    \n",
    "    "
   ]
  },
  {
   "cell_type": "code",
   "execution_count": 47,
   "metadata": {},
   "outputs": [
    {
     "name": "stdout",
     "output_type": "stream",
     "text": [
      "{'/Users/Asa/Documents/Science/Research/dataScienceForPFAS/HSO4-minus-12Water.log': <__main__.logFileObj object at 0x10a53c190>, '/Users/Asa/Documents/Science/Research/dataScienceForPFAS/secondTest.log': <__main__.logFileObj object at 0x10a53cb10>, '/Users/Asa/Documents/Science/Research/dataScienceForPFAS/SO4-2minus-24Water-OCT.log': <__main__.logFileObj object at 0x10a53cf90>, '/Users/Asa/Documents/Science/Research/dataScienceForPFAS/test.log': <__main__.logFileObj object at 0x10a53c8d0>}\n"
     ]
    }
   ],
   "source": [
    "# creating the dictionary of logFile objects with filePath string keys\n",
    "logFileObjs = listLogsMakelogFileObj()\n",
    "print(logFileObjs)"
   ]
  },
  {
   "cell_type": "markdown",
   "metadata": {},
   "source": [
    "## To do\n",
    "* I need a column indicating the completion level of the job with regards to frequency calculations"
   ]
  },
  {
   "cell_type": "code",
   "execution_count": 51,
   "metadata": {},
   "outputs": [],
   "source": [
    "# assignign SCF energy metaData to logFile objects using the corresponding method.\n",
    "for key in logFileObjs.keys():\n",
    "    logFileObjs[key].energySCF = logFileObjs[key].getFinalSCF()\n"
   ]
  },
  {
   "cell_type": "code",
   "execution_count": 52,
   "metadata": {},
   "outputs": [
    {
     "name": "stdout",
     "output_type": "stream",
     "text": [
      "-2535.05921210\n"
     ]
    }
   ],
   "source": [
    "# testing out SCF energy assignment\n",
    "print(logFileObjs['/Users/Asa/Documents/Science/Research/dataScienceForPFAS/SO4-2minus-24Water-OCT.log'].energySCF)"
   ]
  },
  {
   "cell_type": "code",
   "execution_count": null,
   "metadata": {},
   "outputs": [],
   "source": []
  }
 ],
 "metadata": {
  "kernelspec": {
   "display_name": "Python 3",
   "language": "python",
   "name": "python3"
  },
  "language_info": {
   "codemirror_mode": {
    "name": "ipython",
    "version": 3
   },
   "file_extension": ".py",
   "mimetype": "text/x-python",
   "name": "python",
   "nbconvert_exporter": "python",
   "pygments_lexer": "ipython3",
   "version": "3.7.4"
  }
 },
 "nbformat": 4,
 "nbformat_minor": 2
}
