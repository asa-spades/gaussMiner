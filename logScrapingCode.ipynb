{
 "cells": [
  {
   "cell_type": "markdown",
   "metadata": {},
   "source": [
    "# This notebook is a work area to develop code to scrape log files to build a PFAS database"
   ]
  },
  {
   "cell_type": "markdown",
   "metadata": {},
   "source": [
    "## First step is to make a list of log files in the directory that will be iterated over"
   ]
  },
  {
   "cell_type": "code",
   "execution_count": 4,
   "metadata": {},
   "outputs": [],
   "source": [
    "from pathlib import Path  \n",
    "import os\n",
    "import glob\n",
    "import re\n",
    "\n"
   ]
  },
  {
   "cell_type": "code",
   "execution_count": 5,
   "metadata": {},
   "outputs": [],
   "source": [
    "class logFileObj(object):\n",
    "    def __init__(self, fileStringPath, filePath = None, name = None, xyz = None, energyFree = None, energySCF = None, \n",
    "                 molFormula = None, program = None):\n",
    "        #The following are the class attributes \n",
    "        # I had a self.datablock but the python literature idicates I might have problems with that file being kept open in that case\n",
    "        self.fileStringPath = fileStringPath\n",
    "        self.filePath = Path(fileStringPath)\n",
    "        self.name = self.filePath.name\n",
    "        # Im not sure if I really want these to be attributes or things I get from methods\n",
    "        self.energyFree = energyFree\n",
    "        self.energySCF = energySCF\n",
    "        self.molFormula = molFormula\n",
    "        self.program = program\n",
    "        \n",
    "        #The following are the class methods\n",
    "    def getText(self): # this method is just to test my object creation\n",
    "        return('Test object creation by returning this text')\n",
    "    \n",
    "    def getFinalSCF(self):\n",
    "        regSCF = re.compile(r'.*SCF Done.*')\n",
    "        regSCFenerg = re.compile(r'-\\d*\\.\\d*')\n",
    "        finalSCFenerg = ''\n",
    "        finalSCFenergString = ''\n",
    "        with open(self.filePath) as dataBlock:\n",
    "            readDataBlock = dataBlock.read()\n",
    "            SCFmatches = regSCF.findall(readDataBlock)\n",
    "            try:\n",
    "                finalSCFenergString = SCFmatches[-1]\n",
    "            except IndexError:\n",
    "                pass\n",
    "            finalSCFenerg = regSCFenerg.search(finalSCFenergString)\n",
    "            try:\n",
    "                print(finalSCFenerg.group())\n",
    "            except AttributeError:\n",
    "                pass\n",
    "            \n",
    "#   def isNormalterm(self):\n",
    "    \n",
    "#    def whatIsJobType(self):\n",
    "        \n",
    "#    def \n",
    "    \n",
    "    \n",
    "        "
   ]
  },
  {
   "cell_type": "code",
   "execution_count": 9,
   "metadata": {},
   "outputs": [
    {
     "ename": "FileNotFoundError",
     "evalue": "[Errno 2] No such file or directory: 'heresToIt.log'",
     "output_type": "error",
     "traceback": [
      "\u001b[0;31m---------------------------------------------------------------------------\u001b[0m",
      "\u001b[0;31mFileNotFoundError\u001b[0m                         Traceback (most recent call last)",
      "\u001b[0;32m<ipython-input-9-c8e7adbd99c1>\u001b[0m in \u001b[0;36m<module>\u001b[0;34m\u001b[0m\n\u001b[0;32m----> 1\u001b[0;31m \u001b[0mheresToIt\u001b[0m \u001b[0;34m=\u001b[0m \u001b[0mlogFileObj\u001b[0m\u001b[0;34m(\u001b[0m\u001b[0;34m'heresToIt.log'\u001b[0m\u001b[0;34m)\u001b[0m\u001b[0;34m\u001b[0m\u001b[0;34m\u001b[0m\u001b[0m\n\u001b[0m",
      "\u001b[0;32m<ipython-input-7-b508c15ddf62>\u001b[0m in \u001b[0;36m__init__\u001b[0;34m(self, fileStringPath, filePath, dataBlock, xyz, energyFree, energySCF, molFormula, program)\u001b[0m\n\u001b[1;32m      5\u001b[0m         \u001b[0mself\u001b[0m\u001b[0;34m.\u001b[0m\u001b[0mfileStringPath\u001b[0m \u001b[0;34m=\u001b[0m \u001b[0mfileStringPath\u001b[0m\u001b[0;34m\u001b[0m\u001b[0;34m\u001b[0m\u001b[0m\n\u001b[1;32m      6\u001b[0m         \u001b[0mself\u001b[0m\u001b[0;34m.\u001b[0m\u001b[0mfilePath\u001b[0m \u001b[0;34m=\u001b[0m \u001b[0mPath\u001b[0m\u001b[0;34m(\u001b[0m\u001b[0mfileStringPath\u001b[0m\u001b[0;34m)\u001b[0m\u001b[0;34m\u001b[0m\u001b[0;34m\u001b[0m\u001b[0m\n\u001b[0;32m----> 7\u001b[0;31m         \u001b[0mself\u001b[0m\u001b[0;34m.\u001b[0m\u001b[0mdataBlock\u001b[0m \u001b[0;34m=\u001b[0m \u001b[0mopen\u001b[0m\u001b[0;34m(\u001b[0m\u001b[0mself\u001b[0m\u001b[0;34m.\u001b[0m\u001b[0mfilePath\u001b[0m\u001b[0;34m)\u001b[0m\u001b[0;34m\u001b[0m\u001b[0;34m\u001b[0m\u001b[0m\n\u001b[0m\u001b[1;32m      8\u001b[0m         \u001b[0mself\u001b[0m\u001b[0;34m.\u001b[0m\u001b[0menergyFree\u001b[0m \u001b[0;34m=\u001b[0m \u001b[0menergyFree\u001b[0m\u001b[0;34m\u001b[0m\u001b[0;34m\u001b[0m\u001b[0m\n\u001b[1;32m      9\u001b[0m         \u001b[0mself\u001b[0m\u001b[0;34m.\u001b[0m\u001b[0menergySCF\u001b[0m \u001b[0;34m=\u001b[0m \u001b[0menergySCF\u001b[0m\u001b[0;34m\u001b[0m\u001b[0;34m\u001b[0m\u001b[0m\n",
      "\u001b[0;31mFileNotFoundError\u001b[0m: [Errno 2] No such file or directory: 'heresToIt.log'"
     ]
    }
   ],
   "source": [
    "heresToIt = logFileObj('heresToIt.log')"
   ]
  },
  {
   "cell_type": "code",
   "execution_count": 6,
   "metadata": {},
   "outputs": [],
   "source": [
    "# This snippet creates a dictionary of logfile objects\n",
    "# to do: extend this to input dir\n",
    "def listLogsMakelogFileObj(): \n",
    "    \n",
    "    '''This function is designed to get a list of log files and turn them into a series of logfile objects\n",
    "    that have a group of methods making their parsing and metadata collection easier'''\n",
    "    \n",
    "    workingDir = Path.cwd() #defines the working directory as current working directory path object\n",
    "    logPathList = list(workingDir.glob('*.log')) # makes a list of path object with stated pattern\n",
    "    \n",
    "    logObjectDictionary = {}\n",
    "    for logPath in logPathList:\n",
    "        logPathString = str(logPath)\n",
    "        logObject = logFileObj(logPathString)\n",
    "        logObjectDictionary[logPathString] = logObject\n",
    "    \n",
    "    return(logObjectDictionary)\n",
    "    \n",
    "\n",
    "\n",
    "    \n",
    "    "
   ]
  },
  {
   "cell_type": "code",
   "execution_count": 7,
   "metadata": {},
   "outputs": [
    {
     "name": "stdout",
     "output_type": "stream",
     "text": [
      "{'/Users/Asa/Documents/Science/Research/dataScienceForPFAS/HSO4-minus-12Water.log': <__main__.logFileObj object at 0x108bb4b90>, '/Users/Asa/Documents/Science/Research/dataScienceForPFAS/secondTest.log': <__main__.logFileObj object at 0x108bb4c50>, '/Users/Asa/Documents/Science/Research/dataScienceForPFAS/SO4-2minus-24Water-OCT.log': <__main__.logFileObj object at 0x108bb4d90>, '/Users/Asa/Documents/Science/Research/dataScienceForPFAS/test.log': <__main__.logFileObj object at 0x108bb4e50>}\n"
     ]
    }
   ],
   "source": [
    "logFileObjs = listLogsMakelogFileObj()\n",
    "print(logFileObjs)\n",
    "\n",
    "for key in logFileObjs.keys():   # just some snippes of code for testing out my work \n",
    "    with open(logFileObjs[key].filePath) as dataBlock:\n",
    "        readDataBlock = dataBlock.read()\n",
    "  #      print(readDataBlock) # puts out too much text so I commented it out\n",
    "\n"
   ]
  },
  {
   "cell_type": "markdown",
   "metadata": {},
   "source": [
    "## To do\n",
    "* I need a column indicating the completion level of the job with regards to frequency calculations"
   ]
  },
  {
   "cell_type": "code",
   "execution_count": 41,
   "metadata": {},
   "outputs": [
    {
     "name": "stdout",
     "output_type": "stream",
     "text": [
      "\n",
      "\n",
      "\n"
     ]
    }
   ],
   "source": []
  },
  {
   "cell_type": "code",
   "execution_count": 91,
   "metadata": {},
   "outputs": [
    {
     "name": "stdout",
     "output_type": "stream",
     "text": [
      "-1617.70693639\n",
      "-2535.05921210\n"
     ]
    }
   ],
   "source": [
    "# This snippet returns the final SCF energy from a log file\n",
    "\n",
    "regSCF = re.compile(r'.*SCF Done.*')\n",
    "regSCFenerg = re.compile(r'-\\d*\\.\\d*')\n",
    "for key in logFileObjs.keys():\n",
    "    # I want to make the rest of this a method or at least a function to run in the for loop I guess\n",
    "    finalSCFenerg = ''\n",
    "    finalSCFenergString = ''\n",
    "    with open(logFileObjs[key].filePath) as dataBlock:\n",
    "        readDataBlock = dataBlock.read()\n",
    "        SCFmatches = regSCF.findall(readDataBlock)\n",
    "        try:\n",
    "            finalSCFenergString = SCFmatches[-1]\n",
    "        except IndexError:\n",
    "            pass\n",
    "        finalSCFenerg = regSCFenerg.search(finalSCFenergString)\n",
    "        try:\n",
    "            print(finalSCFenerg.group())\n",
    "        except AttributeError:\n",
    "            pass"
   ]
  },
  {
   "cell_type": "code",
   "execution_count": 9,
   "metadata": {},
   "outputs": [
    {
     "name": "stdout",
     "output_type": "stream",
     "text": [
      "-1617.70693639\n",
      "-2535.05921210\n"
     ]
    }
   ],
   "source": [
    "for key in logFileObjs.keys():\n",
    "    logFileObjs[key].getFinalSCF()\n",
    "        "
   ]
  },
  {
   "cell_type": "code",
   "execution_count": null,
   "metadata": {},
   "outputs": [],
   "source": []
  }
 ],
 "metadata": {
  "kernelspec": {
   "display_name": "Python 3",
   "language": "python",
   "name": "python3"
  },
  "language_info": {
   "codemirror_mode": {
    "name": "ipython",
    "version": 3
   },
   "file_extension": ".py",
   "mimetype": "text/x-python",
   "name": "python",
   "nbconvert_exporter": "python",
   "pygments_lexer": "ipython3",
   "version": "3.7.4"
  }
 },
 "nbformat": 4,
 "nbformat_minor": 2
}
